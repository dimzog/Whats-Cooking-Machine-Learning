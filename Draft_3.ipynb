{
 "cells": [
  {
   "cell_type": "markdown",
   "metadata": {
    "colab_type": "text",
    "id": "view-in-github"
   },
   "source": [
    "<a href=\"https://colab.research.google.com/github/dimzog/Machine-Learning/blob/master/Draft_2.ipynb\" target=\"_parent\"><img src=\"https://colab.research.google.com/assets/colab-badge.svg\" alt=\"Open In Colab\"/></a>"
   ]
  },
  {
   "cell_type": "markdown",
   "metadata": {
    "colab_type": "text",
    "id": "I8eHRuL2vy3B"
   },
   "source": [
    "## Τεχνητά Νευρωνικά Δίκτυα και Μηχανική Μάθηση: Χειμ. Εξάμ. 2019-2020.\n",
    "\n",
    "\n",
    "\n",
    "### [Γεωργία Ανδριοσοπούλου](https://github.com/GeorgiaAndr22) (03400042) - ΕΔΕΜΜ.\n",
    "\n",
    "### [Ζωγραφάκης Δημήτριος](https://github.com/dimzog) (03400050) - ΕΔΕΜΜ.\n",
    "\n",
    "### [Ανδρέας Μαστακούρης](https://github.com/AndreasMastakouris) (03400062) - ΕΔΕΜΜ.\n",
    "\n",
    "\n",
    "\n",
    "### Η παρούσα εξαμηνιαία εργασία εξετάζει το Σύνολο Δεδομένων: \"What's Cooking?\"."
   ]
  },
  {
   "cell_type": "markdown",
   "metadata": {},
   "source": [
    "## Project Structure\n",
    "\n",
    "```\n",
    "~/Machine-Learning/\n",
    "│\n",
    "└──data\n",
    "│  └──test.json\n",
    "│  └──train.json\n",
    "│\n",
    "│  Assignment.pdf             # Εκφώνηση Εργασίας\n",
    "│  Documentation.pdf          # Παρουσίαση\n",
    "│\n",
    "│  whatscooking.ipnyb         # Κώδικας της εργασίας\n",
    "│\n",
    "│  README.md                  # Git front page\n",
    "│  requirements.txt           # Libraries used\n",
    "\n",
    "```"
   ]
  },
  {
   "cell_type": "markdown",
   "metadata": {},
   "source": [
    "Βασικά imports"
   ]
  },
  {
   "cell_type": "code",
   "execution_count": 192,
   "metadata": {
    "colab": {
     "base_uri": "https://localhost:8080/",
     "height": 102
    },
    "colab_type": "code",
    "id": "5BCxx-Plvv6A",
    "outputId": "927fd6c9-0701-43aa-a82a-02d1cb3613c3"
   },
   "outputs": [
    {
     "name": "stdout",
     "output_type": "stream",
     "text": [
      "Requirement already satisfied: numpy==1.18.1 in c:\\users\\dimzog\\appdata\\local\\programs\\python\\python38\\lib\\site-packages (from -r requirements.txt (line 1)) (1.18.1)\n",
      "Requirement already satisfied: pandas==1.0.1 in c:\\users\\dimzog\\appdata\\local\\programs\\python\\python38\\lib\\site-packages (from -r requirements.txt (line 2)) (1.0.1)\n",
      "Requirement already satisfied: tqdm==4.43.0 in c:\\users\\dimzog\\appdata\\local\\programs\\python\\python38\\lib\\site-packages (from -r requirements.txt (line 3)) (4.43.0)\n",
      "Requirement already satisfied: nltk==3.4.5 in c:\\users\\dimzog\\appdata\\local\\programs\\python\\python38\\lib\\site-packages (from -r requirements.txt (line 4)) (3.4.5)\n",
      "Requirement already satisfied: scikit-learn==0.22.1 in c:\\users\\dimzog\\appdata\\local\\programs\\python\\python38\\lib\\site-packages (from -r requirements.txt (line 5)) (0.22.1)\n",
      "Requirement already satisfied: seaborn==0.10.0 in c:\\users\\dimzog\\appdata\\local\\programs\\python\\python38\\lib\\site-packages (from -r requirements.txt (line 6)) (0.10.0)\n",
      "Requirement already satisfied: joblib==0.14.1 in c:\\users\\dimzog\\appdata\\local\\programs\\python\\python38\\lib\\site-packages (from -r requirements.txt (line 7)) (0.14.1)\n",
      "Requirement already satisfied: python-dateutil>=2.6.1 in c:\\users\\dimzog\\appdata\\local\\programs\\python\\python38\\lib\\site-packages (from pandas==1.0.1->-r requirements.txt (line 2)) (2.8.1)\n",
      "Requirement already satisfied: pytz>=2017.2 in c:\\users\\dimzog\\appdata\\local\\programs\\python\\python38\\lib\\site-packages (from pandas==1.0.1->-r requirements.txt (line 2)) (2019.3)\n",
      "Requirement already satisfied: six in c:\\users\\dimzog\\appdata\\local\\programs\\python\\python38\\lib\\site-packages (from nltk==3.4.5->-r requirements.txt (line 4)) (1.14.0)\n",
      "Requirement already satisfied: scipy>=0.17.0 in c:\\users\\dimzog\\appdata\\local\\programs\\python\\python38\\lib\\site-packages (from scikit-learn==0.22.1->-r requirements.txt (line 5)) (1.4.1)\n",
      "Requirement already satisfied: matplotlib>=2.1.2 in c:\\users\\dimzog\\appdata\\local\\programs\\python\\python38\\lib\\site-packages (from seaborn==0.10.0->-r requirements.txt (line 6)) (3.1.3)\n",
      "Requirement already satisfied: kiwisolver>=1.0.1 in c:\\users\\dimzog\\appdata\\local\\programs\\python\\python38\\lib\\site-packages (from matplotlib>=2.1.2->seaborn==0.10.0->-r requirements.txt (line 6)) (1.1.0)\n",
      "Requirement already satisfied: pyparsing!=2.0.4,!=2.1.2,!=2.1.6,>=2.0.1 in c:\\users\\dimzog\\appdata\\local\\programs\\python\\python38\\lib\\site-packages (from matplotlib>=2.1.2->seaborn==0.10.0->-r requirements.txt (line 6)) (2.4.6)\n",
      "Requirement already satisfied: cycler>=0.10 in c:\\users\\dimzog\\appdata\\local\\programs\\python\\python38\\lib\\site-packages (from matplotlib>=2.1.2->seaborn==0.10.0->-r requirements.txt (line 6)) (0.10.0)\n",
      "Requirement already satisfied: setuptools in c:\\users\\dimzog\\appdata\\local\\programs\\python\\python38\\lib\\site-packages (from kiwisolver>=1.0.1->matplotlib>=2.1.2->seaborn==0.10.0->-r requirements.txt (line 6)) (41.2.0)\n"
     ]
    },
    {
     "name": "stderr",
     "output_type": "stream",
     "text": [
      "[nltk_data] Downloading package punkt to\n",
      "[nltk_data]     C:\\Users\\dimzog\\AppData\\Roaming\\nltk_data...\n",
      "[nltk_data]   Package punkt is already up-to-date!\n",
      "[nltk_data] Downloading package wordnet to\n",
      "[nltk_data]     C:\\Users\\dimzog\\AppData\\Roaming\\nltk_data...\n",
      "[nltk_data]   Package wordnet is already up-to-date!\n"
     ]
    }
   ],
   "source": [
    "!pip install -r requirements.txt\n",
    "import unidecode\n",
    "\n",
    "import seaborn as sns\n",
    "sns.set(style=\"darkgrid\")\n",
    "\n",
    "# Change Figure size for every seaborn plot\n",
    "sns.set(rc={'figure.figsize':(11.5, 8.3)})\n",
    "\n",
    "import numpy as np\n",
    "import pandas as pd\n",
    "from time import time\n",
    "\n",
    "import re\n",
    "from tqdm import tqdm\n",
    "from collections import defaultdict\n",
    "\n",
    "import time\n",
    "import nltk\n",
    "nltk.download('punkt')\n",
    "nltk.download('wordnet')\n",
    "from nltk.stem import WordNetLemmatizer\n",
    "\n",
    "import matplotlib.pyplot as plt\n",
    "import matplotlib.patches as mpatches\n",
    "import seaborn as sns\n",
    "plt.style.use('ggplot')\n",
    "\n",
    "\n",
    "\n",
    "import plotly.graph_objs as go\n",
    "from plotly.offline import init_notebook_mode, iplot\n",
    "\n",
    "import random\n",
    "import pickle\n",
    "from sklearn import tree\n",
    "from sklearn import metrics\n",
    "from sklearn.svm import SVC\n",
    "from collections import Counter\n",
    "from sklearn import preprocessing\n",
    "from sklearn.cluster import KMeans\n",
    "from sklearn.decomposition import PCA\n",
    "from sklearn.metrics import make_scorer\n",
    "from sklearn.metrics import fbeta_score\n",
    "from sklearn.metrics import accuracy_score\n",
    "from sklearn.preprocessing import MinMaxScaler\n",
    "from sklearn.ensemble import BaggingClassifier\n",
    "from sklearn.preprocessing import OneHotEncoder\n",
    "from sklearn.tree import DecisionTreeClassifier\n",
    "from sklearn.ensemble import AdaBoostClassifier\n",
    "from sklearn.neural_network import MLPClassifier\n",
    "from sklearn.preprocessing import StandardScaler\n",
    "from sklearn.model_selection import GridSearchCV\n",
    "from sklearn.linear_model import LinearRegression\n",
    "from sklearn.neighbors import KNeighborsClassifier\n",
    "from sklearn.linear_model import LogisticRegression\n",
    "from sklearn.ensemble import RandomForestClassifier\n",
    "from sklearn.model_selection import cross_val_score\n",
    "from sklearn.model_selection import train_test_split\n",
    "from sklearn.metrics import precision_recall_fscore_support\n",
    "from sklearn.metrics import classification_report, confusion_matrix"
   ]
  },
  {
   "cell_type": "markdown",
   "metadata": {
    "colab_type": "text",
    "id": "dBTwB4tw-ue1"
   },
   "source": [
    "# 1. Προεπεξεργασία Δεδομένων"
   ]
  },
  {
   "cell_type": "markdown",
   "metadata": {
    "colab_type": "text",
    "id": "1_Od6d5TQJcP"
   },
   "source": [
    "## Preprocess\n",
    "\n",
    "* Read the files\n",
    "\n",
    "* Drop recipes with 1 ingredient\n",
    "\n",
    "* Convert all Capitals to Lowers\n",
    "\n",
    "* Create Column separated_ingredients"
   ]
  },
  {
   "cell_type": "code",
   "execution_count": 185,
   "metadata": {
    "colab": {
     "base_uri": "https://localhost:8080/",
     "height": 204
    },
    "colab_type": "code",
    "id": "isiVm_NbJ-y4",
    "outputId": "ce694847-4b90-40d3-fc7c-90cc2bc67b92"
   },
   "outputs": [
    {
     "data": {
      "text/html": [
       "<div>\n",
       "<style scoped>\n",
       "    .dataframe tbody tr th:only-of-type {\n",
       "        vertical-align: middle;\n",
       "    }\n",
       "\n",
       "    .dataframe tbody tr th {\n",
       "        vertical-align: top;\n",
       "    }\n",
       "\n",
       "    .dataframe thead th {\n",
       "        text-align: right;\n",
       "    }\n",
       "</style>\n",
       "<table border=\"1\" class=\"dataframe\">\n",
       "  <thead>\n",
       "    <tr style=\"text-align: right;\">\n",
       "      <th></th>\n",
       "      <th>id</th>\n",
       "      <th>cuisine</th>\n",
       "      <th>ingredients</th>\n",
       "      <th>seperated_ingredients</th>\n",
       "    </tr>\n",
       "  </thead>\n",
       "  <tbody>\n",
       "    <tr>\n",
       "      <th>0</th>\n",
       "      <td>10259</td>\n",
       "      <td>greek</td>\n",
       "      <td>['romaine lettuce', 'black olives', 'grape tom...</td>\n",
       "      <td>romaine lettuce, black olives, grape tomatoes,...</td>\n",
       "    </tr>\n",
       "    <tr>\n",
       "      <th>1</th>\n",
       "      <td>25693</td>\n",
       "      <td>southern_us</td>\n",
       "      <td>['plain flour', 'ground pepper', 'salt', 'toma...</td>\n",
       "      <td>plain flour, ground pepper, salt, tomatoes, gr...</td>\n",
       "    </tr>\n",
       "    <tr>\n",
       "      <th>2</th>\n",
       "      <td>20130</td>\n",
       "      <td>filipino</td>\n",
       "      <td>['eggs', 'pepper', 'salt', 'mayonaise', 'cooki...</td>\n",
       "      <td>eggs, pepper, salt, mayonaise, cooking oil, gr...</td>\n",
       "    </tr>\n",
       "    <tr>\n",
       "      <th>3</th>\n",
       "      <td>22213</td>\n",
       "      <td>indian</td>\n",
       "      <td>['water', 'vegetable oil', 'wheat', 'salt']</td>\n",
       "      <td>water, vegetable oil, wheat, salt</td>\n",
       "    </tr>\n",
       "    <tr>\n",
       "      <th>4</th>\n",
       "      <td>13162</td>\n",
       "      <td>indian</td>\n",
       "      <td>['black pepper', 'shallots', 'cornflour', 'cay...</td>\n",
       "      <td>black pepper, shallots, cornflour, cayenne pep...</td>\n",
       "    </tr>\n",
       "  </tbody>\n",
       "</table>\n",
       "</div>"
      ],
      "text/plain": [
       "      id      cuisine                                        ingredients  \\\n",
       "0  10259        greek  ['romaine lettuce', 'black olives', 'grape tom...   \n",
       "1  25693  southern_us  ['plain flour', 'ground pepper', 'salt', 'toma...   \n",
       "2  20130     filipino  ['eggs', 'pepper', 'salt', 'mayonaise', 'cooki...   \n",
       "3  22213       indian        ['water', 'vegetable oil', 'wheat', 'salt']   \n",
       "4  13162       indian  ['black pepper', 'shallots', 'cornflour', 'cay...   \n",
       "\n",
       "                               seperated_ingredients  \n",
       "0  romaine lettuce, black olives, grape tomatoes,...  \n",
       "1  plain flour, ground pepper, salt, tomatoes, gr...  \n",
       "2  eggs, pepper, salt, mayonaise, cooking oil, gr...  \n",
       "3                  water, vegetable oil, wheat, salt  \n",
       "4  black pepper, shallots, cornflour, cayenne pep...  "
      ]
     },
     "execution_count": 185,
     "metadata": {},
     "output_type": "execute_result"
    }
   ],
   "source": [
    "train_df = pd.read_json(\"data/train.json\",  dtype={\"id\": \"int64\", \"cuisine\": \"str\", \"ingredients\": \"str\"})\n",
    "train_df = train_df[train_df.ingredients.str.len() > 1]\n",
    "\n",
    "# Convert to lowercase\n",
    "train_df[\"seperated_ingredients\"] = train_df.ingredients.str.lower()\n",
    "\n",
    "# Remove punctuation\n",
    "reg = re.compile(\"[^\\w\\s\\,]|\\d\")\n",
    "train_df.seperated_ingredients.replace(reg, \"\", inplace=True)\n",
    "\n",
    "train_df.head()"
   ]
  },
  {
   "cell_type": "markdown",
   "metadata": {
    "colab_type": "text",
    "id": "9awcG00ANxSE"
   },
   "source": [
    "### Λημματοποίηση\n",
    "\n",
    "* Words with the same roots become the same\n",
    "\n",
    "* Remove numbers with percentages (for example 1%)\n",
    "\n",
    "* Remove words with less than 2 characters\n",
    "\n",
    "* Lemmatize"
   ]
  },
  {
   "cell_type": "code",
   "execution_count": 186,
   "metadata": {
    "colab": {
     "base_uri": "https://localhost:8080/",
     "height": 204
    },
    "colab_type": "code",
    "id": "h2f-GJmfKFwk",
    "outputId": "0d71d619-a958-41f7-a0cc-0c92e094a37e"
   },
   "outputs": [
    {
     "data": {
      "text/html": [
       "<div>\n",
       "<style scoped>\n",
       "    .dataframe tbody tr th:only-of-type {\n",
       "        vertical-align: middle;\n",
       "    }\n",
       "\n",
       "    .dataframe tbody tr th {\n",
       "        vertical-align: top;\n",
       "    }\n",
       "\n",
       "    .dataframe thead th {\n",
       "        text-align: right;\n",
       "    }\n",
       "</style>\n",
       "<table border=\"1\" class=\"dataframe\">\n",
       "  <thead>\n",
       "    <tr style=\"text-align: right;\">\n",
       "      <th></th>\n",
       "      <th>id</th>\n",
       "      <th>cuisine</th>\n",
       "      <th>ingredients</th>\n",
       "      <th>seperated_ingredients</th>\n",
       "    </tr>\n",
       "  </thead>\n",
       "  <tbody>\n",
       "    <tr>\n",
       "      <th>0</th>\n",
       "      <td>10259</td>\n",
       "      <td>greek</td>\n",
       "      <td>['romaine lettuce', 'black olives', 'grape tom...</td>\n",
       "      <td>romaine lettuce,black olive,grape tomato,garli...</td>\n",
       "    </tr>\n",
       "    <tr>\n",
       "      <th>1</th>\n",
       "      <td>25693</td>\n",
       "      <td>southern_us</td>\n",
       "      <td>['plain flour', 'ground pepper', 'salt', 'toma...</td>\n",
       "      <td>plain flour,ground pepper,salt,tomato,ground b...</td>\n",
       "    </tr>\n",
       "    <tr>\n",
       "      <th>2</th>\n",
       "      <td>20130</td>\n",
       "      <td>filipino</td>\n",
       "      <td>['eggs', 'pepper', 'salt', 'mayonaise', 'cooki...</td>\n",
       "      <td>egg,pepper,salt,mayonaise,cooking oil,green ch...</td>\n",
       "    </tr>\n",
       "    <tr>\n",
       "      <th>3</th>\n",
       "      <td>22213</td>\n",
       "      <td>indian</td>\n",
       "      <td>['water', 'vegetable oil', 'wheat', 'salt']</td>\n",
       "      <td>water,vegetable oil,wheat,salt</td>\n",
       "    </tr>\n",
       "    <tr>\n",
       "      <th>4</th>\n",
       "      <td>13162</td>\n",
       "      <td>indian</td>\n",
       "      <td>['black pepper', 'shallots', 'cornflour', 'cay...</td>\n",
       "      <td>black pepper,shallot,cornflour,cayenne pepper,...</td>\n",
       "    </tr>\n",
       "  </tbody>\n",
       "</table>\n",
       "</div>"
      ],
      "text/plain": [
       "      id      cuisine                                        ingredients  \\\n",
       "0  10259        greek  ['romaine lettuce', 'black olives', 'grape tom...   \n",
       "1  25693  southern_us  ['plain flour', 'ground pepper', 'salt', 'toma...   \n",
       "2  20130     filipino  ['eggs', 'pepper', 'salt', 'mayonaise', 'cooki...   \n",
       "3  22213       indian        ['water', 'vegetable oil', 'wheat', 'salt']   \n",
       "4  13162       indian  ['black pepper', 'shallots', 'cornflour', 'cay...   \n",
       "\n",
       "                               seperated_ingredients  \n",
       "0  romaine lettuce,black olive,grape tomato,garli...  \n",
       "1  plain flour,ground pepper,salt,tomato,ground b...  \n",
       "2  egg,pepper,salt,mayonaise,cooking oil,green ch...  \n",
       "3                     water,vegetable oil,wheat,salt  \n",
       "4  black pepper,shallot,cornflour,cayenne pepper,...  "
      ]
     },
     "execution_count": 186,
     "metadata": {},
     "output_type": "execute_result"
    }
   ],
   "source": [
    "lemmatizer = WordNetLemmatizer()\n",
    "\n",
    "# Tokenize and then lemmatize every word in ingredients\n",
    "train_df[\"seperated_ingredients\"] = train_df.seperated_ingredients.apply(\n",
    "                  lambda x: \" \".join([lemmatizer.lemmatize(w) for w in nltk.word_tokenize(x)]))\n",
    "\n",
    "\n",
    "# Remove annoying whitespace added before and after ','\n",
    "reg = re.compile(\" , \")\n",
    "train_df.seperated_ingredients.replace(reg, \",\", inplace=True)\n",
    "\n",
    "train_df.head()"
   ]
  },
  {
   "cell_type": "markdown",
   "metadata": {
    "colab_type": "text",
    "id": "RCSilQl9WiHx"
   },
   "source": [
    "### Έλεγχος για κενές Τιμές"
   ]
  },
  {
   "cell_type": "code",
   "execution_count": 100,
   "metadata": {
    "colab": {
     "base_uri": "https://localhost:8080/",
     "height": 173
    },
    "colab_type": "code",
    "id": "iIM0_eQqWd7l",
    "outputId": "28f68fae-8904-481a-aeba-138890774f6f"
   },
   "outputs": [
    {
     "data": {
      "text/html": [
       "<div>\n",
       "<style scoped>\n",
       "    .dataframe tbody tr th:only-of-type {\n",
       "        vertical-align: middle;\n",
       "    }\n",
       "\n",
       "    .dataframe tbody tr th {\n",
       "        vertical-align: top;\n",
       "    }\n",
       "\n",
       "    .dataframe thead th {\n",
       "        text-align: right;\n",
       "    }\n",
       "</style>\n",
       "<table border=\"1\" class=\"dataframe\">\n",
       "  <thead>\n",
       "    <tr style=\"text-align: right;\">\n",
       "      <th></th>\n",
       "      <th>Total missing</th>\n",
       "      <th>Percent missing</th>\n",
       "    </tr>\n",
       "  </thead>\n",
       "  <tbody>\n",
       "    <tr>\n",
       "      <th>id</th>\n",
       "      <td>0</td>\n",
       "      <td>0.0</td>\n",
       "    </tr>\n",
       "    <tr>\n",
       "      <th>cuisine</th>\n",
       "      <td>0</td>\n",
       "      <td>0.0</td>\n",
       "    </tr>\n",
       "    <tr>\n",
       "      <th>ingredients</th>\n",
       "      <td>0</td>\n",
       "      <td>0.0</td>\n",
       "    </tr>\n",
       "    <tr>\n",
       "      <th>seperated_ingredients</th>\n",
       "      <td>0</td>\n",
       "      <td>0.0</td>\n",
       "    </tr>\n",
       "  </tbody>\n",
       "</table>\n",
       "</div>"
      ],
      "text/plain": [
       "                       Total missing  Percent missing\n",
       "id                                 0              0.0\n",
       "cuisine                            0              0.0\n",
       "ingredients                        0              0.0\n",
       "seperated_ingredients              0              0.0"
      ]
     },
     "execution_count": 100,
     "metadata": {},
     "output_type": "execute_result"
    }
   ],
   "source": [
    "# Total missing values\n",
    "total = train_df.isnull().sum()\n",
    "\n",
    "# Percent Missing\n",
    "percent = (train_df.isnull().sum()/train_df.isnull().count()*100)\n",
    "\n",
    "missing_train_data  = pd.concat([total, percent], axis=1, keys=[\"Total missing\", \"Percent missing\"])\n",
    "\n",
    "missing_train_data.head()"
   ]
  },
  {
   "cell_type": "code",
   "execution_count": 101,
   "metadata": {
    "colab": {
     "base_uri": "https://localhost:8080/",
     "height": 170
    },
    "colab_type": "code",
    "id": "bSar2ELadclM",
    "outputId": "1d2e17ec-5dfe-439c-b8bc-b9ae4fe59d35"
   },
   "outputs": [
    {
     "name": "stdout",
     "output_type": "stream",
     "text": [
      "<class 'pandas.core.frame.DataFrame'>\n",
      "Int64Index: 39774 entries, 0 to 39773\n",
      "Data columns (total 4 columns):\n",
      " #   Column                 Non-Null Count  Dtype \n",
      "---  ------                 --------------  ----- \n",
      " 0   id                     39774 non-null  int64 \n",
      " 1   cuisine                39774 non-null  object\n",
      " 2   ingredients            39774 non-null  object\n",
      " 3   seperated_ingredients  39774 non-null  object\n",
      "dtypes: int64(1), object(3)\n",
      "memory usage: 1.5+ MB\n"
     ]
    }
   ],
   "source": [
    "train_df.info()"
   ]
  },
  {
   "cell_type": "code",
   "execution_count": 102,
   "metadata": {
    "colab": {
     "base_uri": "https://localhost:8080/",
     "height": 85
    },
    "colab_type": "code",
    "id": "ONTnmF6Rdfro",
    "outputId": "c1441ad4-0ae6-4ad1-9f8d-a67ef2ef0c96"
   },
   "outputs": [
    {
     "name": "stdout",
     "output_type": "stream",
     "text": [
      "20 unique cousines, namely: ['greek' 'southern_us' 'filipino' 'indian' 'jamaican' 'spanish' 'italian'\n",
      " 'mexican' 'chinese' 'british' 'thai' 'vietnamese' 'cajun_creole'\n",
      " 'brazilian' 'french' 'japanese' 'irish' 'korean' 'moroccan' 'russian']\n"
     ]
    }
   ],
   "source": [
    "unique = train_df.cuisine.unique()\n",
    "\n",
    "print(f\"{len(unique)} unique cousines, namely: {unique}\")"
   ]
  },
  {
   "cell_type": "markdown",
   "metadata": {
    "colab_type": "text",
    "id": "CzNdcnTd2Wzx"
   },
   "source": [
    "## Create Train and Test Data (Sparse Matrices)\n",
    "\n",
    "* Vectorize train_df.separated_ingredients --> create X_train_vectorized\n",
    "\n",
    "* Encode train_df.cuisine with values --> y_transformed = labels (0,..,19)\n",
    "\n",
    "* Train & Test split (from X_train_vectorized and y_transformed) --> 80%, 20%"
   ]
  },
  {
   "cell_type": "code",
   "execution_count": 103,
   "metadata": {
    "colab": {},
    "colab_type": "code",
    "id": "jDwnKu1Vu4Xs"
   },
   "outputs": [
    {
     "name": "stdout",
     "output_type": "stream",
     "text": [
      "Size of training data 31819, size of test data: 7955.\n"
     ]
    }
   ],
   "source": [
    "from sklearn.feature_extraction.text import TfidfVectorizer\n",
    "from sklearn.model_selection import train_test_split\n",
    "from sklearn.preprocessing import LabelEncoder\n",
    "\n",
    "# TFIDF, convert to sparse matrices\n",
    "vect = TfidfVectorizer(binary=True).fit(train_df[\"seperated_ingredients\"].values)\n",
    "X_train_vectorized = vect.transform(train_df[\"seperated_ingredients\"].values)\n",
    "X_train_vectorized = X_train_vectorized.astype(\"float\")\n",
    "\n",
    "encoder = LabelEncoder()\n",
    "y_transformed = encoder.fit_transform(train_df.cuisine)\n",
    "\n",
    "X_train, X_test, y_train, y_test = train_test_split(X_train_vectorized, y_transformed , train_size=0.80, random_state = 0)\n",
    "\n",
    "print(f\"Size of training data {X_train.shape[0]}, size of test data: {X_test.shape[0]}.\")"
   ]
  },
  {
   "cell_type": "markdown",
   "metadata": {
    "colab_type": "text",
    "id": "cGDd8lEw6o5Z"
   },
   "source": [
    "## Dictionary for y_train labels"
   ]
  },
  {
   "cell_type": "code",
   "execution_count": 104,
   "metadata": {
    "colab": {
     "base_uri": "https://localhost:8080/",
     "height": 357
    },
    "colab_type": "code",
    "id": "x8l8__Qf51lU",
    "outputId": "f2424ed3-e538-4d40-f262-e89c8a44ac4d"
   },
   "outputs": [
    {
     "data": {
      "text/plain": [
       "{'brazilian': 0,\n",
       " 'british': 1,\n",
       " 'cajun_creole': 2,\n",
       " 'chinese': 3,\n",
       " 'filipino': 4,\n",
       " 'french': 5,\n",
       " 'greek': 6,\n",
       " 'indian': 7,\n",
       " 'irish': 8,\n",
       " 'italian': 9,\n",
       " 'jamaican': 10,\n",
       " 'japanese': 11,\n",
       " 'korean': 12,\n",
       " 'mexican': 13,\n",
       " 'moroccan': 14,\n",
       " 'russian': 15,\n",
       " 'southern_us': 16,\n",
       " 'spanish': 17,\n",
       " 'thai': 18,\n",
       " 'vietnamese': 19}"
      ]
     },
     "execution_count": 104,
     "metadata": {},
     "output_type": "execute_result"
    }
   ],
   "source": [
    "dict(zip(encoder.classes_, encoder.transform(encoder.classes_)))"
   ]
  },
  {
   "cell_type": "markdown",
   "metadata": {
    "colab_type": "text",
    "id": "eQ174YxM9Tqz"
   },
   "source": [
    "# 2. Knowledge Representation"
   ]
  },
  {
   "cell_type": "markdown",
   "metadata": {
    "colab_type": "text",
    "id": "sQm-K6js-Usq"
   },
   "source": [
    "## Most Frequent Cuisines"
   ]
  },
  {
   "cell_type": "markdown",
   "metadata": {
    "colab_type": "text",
    "id": "KC_oZ8QIBHNC"
   },
   "source": [
    "### Κατανομή Κουζινών (Ιστόγραμμα)"
   ]
  },
  {
   "cell_type": "code",
   "execution_count": 187,
   "metadata": {
    "colab": {
     "base_uri": "https://localhost:8080/",
     "height": 729
    },
    "colab_type": "code",
    "id": "8Fh6aEmo6yFU",
    "outputId": "6e717fbe-b7d6-4f1c-c9c9-93c493b55364"
   },
   "outputs": [
    {
     "data": {
      "image/png": "[encoded data removed]",
      "text/plain": [
       "<Figure size 828x597.6 with 1 Axes>"
      ]
     },
     "metadata": {},
     "output_type": "display_data"
    }
   ],
   "source": [
    "# Count total occurencies of each cuisine\n",
    "vc = train_df[\"cuisine\"].value_counts().reset_index(name=\"counts\")\n",
    "\n",
    "# Rename for better visuals\n",
    "vc = vc.rename(columns = {\"index\": \"cuisine\"})\n",
    "\n",
    "# Calculate percent for each cuisine\n",
    "vc[\"percent\"] = (vc.counts / vc.counts.sum()) * 100\n",
    "\n",
    "# plot cuisines against counts\n",
    "sns.barplot(x=vc.percent, y=vc.cuisine)\n",
    "\n",
    "plt.show()"
   ]
  },
  {
   "cell_type": "markdown",
   "metadata": {
    "colab_type": "text",
    "id": "qXPe_a241euW"
   },
   "source": [
    "### Κατανομή Κουζινών (Πίτα)"
   ]
  },
  {
   "cell_type": "code",
   "execution_count": 188,
   "metadata": {
    "colab": {
     "base_uri": "https://localhost:8080/",
     "height": 542
    },
    "colab_type": "code",
    "id": "hWAUbNKS1djd",
    "outputId": "fac5b77d-0cdd-4339-bd81-524e7c9144cf"
   },
   "outputs": [
    {
     "data": {
      "image/png": "[encoded data removed]",
      "text/plain": [
       "<Figure size 828x597.6 with 1 Axes>"
      ]
     },
     "metadata": {},
     "output_type": "display_data"
    }
   ],
   "source": [
    "# Pie plot\n",
    "ax = vc.plot(kind=\"pie\", y=\"counts\", legend=False, autopct=\"%1.f%%\", labels=vc.cuisine)\n",
    "\n",
    "# Remove annoying y label\n",
    "ax.set_ylabel(\"\")\n",
    "\n",
    "plt.show()"
   ]
  },
  {
   "cell_type": "markdown",
   "metadata": {
    "colab_type": "text",
    "id": "YYz7RiCnCkUl"
   },
   "source": [
    "### Πλήθος Υλικών ανά Συνταγή (Boxplot)"
   ]
  },
  {
   "cell_type": "code",
   "execution_count": 189,
   "metadata": {
    "colab": {
     "base_uri": "https://localhost:8080/",
     "height": 542
    },
    "colab_type": "code",
    "id": "HR33nsx3BMZ0",
    "outputId": "690b9dbf-c44c-4f18-e63f-21314ccd862a"
   },
   "outputs": [
    {
     "data": {
      "image/png": "[encoded data removed]",
      "text/plain": [
       "<Figure size 828x597.6 with 1 Axes>"
      ]
     },
     "metadata": {},
     "output_type": "display_data"
    }
   ],
   "source": [
    "# Create new column for total ingredients in every receipe\n",
    "train_df[\"ingr_total\"] = train_df.seperated_ingredients.str.split(\",\").str.len()\n",
    "\n",
    "# Boxplot\n",
    "ax = sns.boxplot(x=train_df.ingr_total, y=train_df.cuisine)\n",
    "ax.set_xlabel(\"Number of Ingredients\")\n",
    "\n",
    "plt.show()"
   ]
  },
  {
   "cell_type": "markdown",
   "metadata": {
    "colab_type": "text",
    "id": "j0lYptxs_Qkz"
   },
   "source": [
    "### Συχνότερα Υλικά στο Σύνολο Δεδομένων (κορυφαία 10)"
   ]
  },
  {
   "cell_type": "code",
   "execution_count": 190,
   "metadata": {
    "colab": {
     "base_uri": "https://localhost:8080/",
     "height": 611
    },
    "colab_type": "code",
    "id": "VNtSTx7I6yNP",
    "outputId": "2e29767c-8deb-4222-9555-9211959287cf"
   },
   "outputs": [
    {
     "data": {
      "image/png": "[encoded data removed]",
      "text/plain": [
       "<Figure size 828x597.6 with 1 Axes>"
      ]
     },
     "metadata": {},
     "output_type": "display_data"
    }
   ],
   "source": [
    "# Expand each ingredient in a new column\n",
    "df_ = train_df.seperated_ingredients.str.split(\",\", expand=True)\n",
    "\n",
    "# Count values for each columns\n",
    "df_ingr = [df_.iloc[:, i].value_counts() for i in range(df_.shape[1])]\n",
    "\n",
    "# Merge results of each column\n",
    "df_ingr = pd.concat(df_ingr).reset_index(name=\"counts\").rename(columns={\"index\": \"ingredient\"})\n",
    "\n",
    "# Merge same ingredients\n",
    "df_ingr = df_ingr.groupby([\"ingredient\"], as_index=False).agg(\"sum\")\n",
    "\n",
    "# Drop first row, as it is badly indexed\n",
    "df_ingr.drop([0], inplace=True)\n",
    "df_ingr.sort_values(by=\"counts\", ascending=False, inplace=True)\n",
    "\n",
    "# 10 Most used\n",
    "df_ingr_top10 = df_ingr.iloc[:10]\n",
    "sns.barplot(x=df_ingr_top10.counts, y=df_ingr_top10.ingredient)\n",
    "plt.show()"
   ]
  },
  {
   "cell_type": "code",
   "execution_count": 191,
   "metadata": {},
   "outputs": [
    {
     "data": {
      "text/plain": [
       "False"
      ]
     },
     "execution_count": 191,
     "metadata": {},
     "output_type": "execute_result"
    }
   ],
   "source": [
    "df_ingr.ingredient.str.contains(\"\\d\").any()"
   ]
  },
  {
   "cell_type": "markdown",
   "metadata": {
    "colab_type": "text",
    "id": "_3PO_0tBZq0h"
   },
   "source": [
    "## Examining Each Cuisine Seperately\n"
   ]
  },
  {
   "cell_type": "code",
   "execution_count": null,
   "metadata": {
    "colab": {},
    "colab_type": "code",
    "id": "Htl8XBjc6yU6"
   },
   "outputs": [],
   "source": [
    "def cuisine_dish(train, cuisine):\n",
    "    temp1 = train[train['cuisine'] == cuisine]\n",
    "    n=6714 # total ingredients in train data\n",
    "    top = Counter([item for sublist in temp1.ingredients for item in sublist]).most_common(n)\n",
    "    temp= pd.DataFrame(top)\n",
    "    temp.columns = [\"ingredient\",\"total_count\"]\n",
    "    temp = temp.head(20)\n",
    "    trace0 = go.Pie(labels=temp.ingredient[::-1], values=temp.total_count[::-1],hole = 0.4)\n",
    "    data = [trace0]\n",
    "    fig = go.Figure(data = data, layout= dict(title = \"Famous Cuisine of '\"+cuisine+\"'\"))\n",
    "    iplot(fig,filename=\"basic_pie_chart\")"
   ]
  },
  {
   "cell_type": "markdown",
   "metadata": {
    "colab_type": "text",
    "id": "ppqNRIMraECl"
   },
   "source": [
    "a. Greek"
   ]
  },
  {
   "cell_type": "code",
   "execution_count": null,
   "metadata": {
    "colab": {
     "base_uri": "https://localhost:8080/",
     "height": 542
    },
    "colab_type": "code",
    "id": "L2VzmZms6yZx",
    "outputId": "8de8d691-c307-4d20-8564-319b7b3f146e"
   },
   "outputs": [],
   "source": [
    "cuisine_dish(train_df,\"greek\")"
   ]
  },
  {
   "cell_type": "markdown",
   "metadata": {
    "colab_type": "text",
    "id": "lM_HT_BwaZ-3"
   },
   "source": [
    "b. Indian"
   ]
  },
  {
   "cell_type": "code",
   "execution_count": null,
   "metadata": {
    "colab": {
     "base_uri": "https://localhost:8080/",
     "height": 542
    },
    "colab_type": "code",
    "id": "6yNiYk8P6ycf",
    "outputId": "833dccc5-765b-442c-9176-0138c8b2cc8b"
   },
   "outputs": [],
   "source": [
    "cuisine_dish(train_df,\"indian\")"
   ]
  },
  {
   "cell_type": "markdown",
   "metadata": {
    "colab_type": "text",
    "id": "P2dJTn9g6IB2"
   },
   "source": [
    "## Most frequent biagrams "
   ]
  },
  {
   "cell_type": "code",
   "execution_count": null,
   "metadata": {
    "colab": {},
    "colab_type": "code",
    "id": "a3U9jDp46Rlf"
   },
   "outputs": [],
   "source": [
    "train_df[\"for ngrams\"]=train_df[\"seperated_ingredients\"].str.replace(\",\",\" \")\n",
    "def ingre_cusine(cuisine):\n",
    "    frame=train_df[train_df[\"cuisine\"]==cuisine]\n",
    "    common=list(nltk.bigrams(nltk.word_tokenize(\" \".join(frame[\"for ngrams\"]))))\n",
    "    return pd.DataFrame(Counter(common),index=[\"count\"]).T.sort_values(\"count\",ascending=False)[:15]"
   ]
  },
  {
   "cell_type": "code",
   "execution_count": null,
   "metadata": {
    "colab": {
     "base_uri": "https://localhost:8080/",
     "height": 1000
    },
    "colab_type": "code",
    "id": "hq3R0cuG6a_2",
    "outputId": "ca6cccad-9077-4cf9-ee51-b0ef6bfe8a9d"
   },
   "outputs": [],
   "source": [
    "flatui = [ \"#34495e\", \"#2ecc71\", \"#95a5a6\",\"#9b59b6\", \"#e74c3c\", \"#3498db\"]\n",
    "\n",
    "f,ax=plt.subplots(3,2,figsize=(20,20))\n",
    "ingre_cusine(\"italian\").plot.barh(ax=ax[0,0],width=0.9,color= flatui[0])\n",
    "ax[0,0].set_title(\"Italian Cuisine\")\n",
    "ingre_cusine(\"mexican\").plot.barh(ax=ax[0,1],width=0.9,color = flatui[1] )\n",
    "ax[0,1].set_title(\"Mexican Cuisine\")\n",
    "ingre_cusine(\"southern_us\").plot.barh(ax=ax[1,0],width=0.9,color=flatui[2])\n",
    "ax[1,0].set_title(\"southern_us Cuisine\")\n",
    "ingre_cusine(\"indian\").plot.barh(ax=ax[1,1],width=0.9,color=flatui[3])\n",
    "ax[1,1].set_title(\"Indian Cuisine\")\n",
    "ingre_cusine(\"chinese\").plot.barh(ax=ax[2,0],width=0.9,color=flatui[4])\n",
    "ax[2,0].set_title(\"Chinese Cuisine\")\n",
    "ingre_cusine(\"thai\").plot.barh(ax=ax[2,1],width=0.9,color=flatui[5])\n",
    "ax[2,1].set_title(\"Chinese Cuisine\")\n",
    "plt.subplots_adjust(wspace=0.5)"
   ]
  },
  {
   "cell_type": "markdown",
   "metadata": {
    "colab_type": "text",
    "id": "_sHqK0Zz66O9"
   },
   "source": [
    "## Create Biagrams"
   ]
  },
  {
   "cell_type": "code",
   "execution_count": null,
   "metadata": {
    "colab": {},
    "colab_type": "code",
    "id": "Pc2kyRbK7GSc"
   },
   "outputs": [],
   "source": [
    "import networkx as nx\n",
    "def generate_ngrams(text, n):\n",
    "    words = text.split(\" \")\n",
    "    iterations = len(words) - n + 1\n",
    "    for i in range(iterations):\n",
    "        yield words[i:i + n]\n",
    "\n",
    "\n",
    "def net_diagram(*cuisines):\n",
    "    ngrams = {}\n",
    "    for title in train_df[train_df.cuisine==cuisines[0]][\"for ngrams\"]:\n",
    "            for ngram in generate_ngrams(title, 2):\n",
    "                ngram = \",\".join(ngram)\n",
    "                if ngram in ngrams:\n",
    "                    ngrams[ngram] += 1\n",
    "                else:\n",
    "                    ngrams[ngram] = 1\n",
    "\n",
    "    ngrams_mws_df = pd.DataFrame.from_dict(ngrams, orient='index')\n",
    "    ngrams_mws_df.columns = [\"count\"]\n",
    "    ngrams_mws_df[\"cusine\"] = cuisines[0]\n",
    "    ngrams_mws_df.reset_index(level=0, inplace=True)\n",
    "\n",
    "    ngrams = {}\n",
    "    for title in train_df[train_df.cuisine==cuisines[1]][\"for ngrams\"]:\n",
    "            for ngram in generate_ngrams(title, 2):\n",
    "                ngram = \",\".join(ngram)\n",
    "                if ngram in ngrams:\n",
    "                    ngrams[ngram] += 1\n",
    "                else:\n",
    "                    ngrams[ngram] = 1\n",
    "\n",
    "    ngrams_mws_df1 = pd.DataFrame.from_dict(ngrams, orient='index')\n",
    "    ngrams_mws_df1.columns = [\"count\"]\n",
    "    ngrams_mws_df1[\"cusine\"] = cuisines[1]\n",
    "    ngrams_mws_df1.reset_index(level=0, inplace=True)\n",
    "    cuisine1=ngrams_mws_df.sort_values(\"count\",ascending=False)[:25]\n",
    "    cuisine2=ngrams_mws_df1.sort_values(\"count\",ascending=False)[:25]\n",
    "    df_final=pd.concat([cuisine1,cuisine2])\n",
    "    g = nx.from_pandas_edgelist(df_final,source=\"cusine\",target='index')\n",
    "    cmap = plt.cm.RdYlGn\n",
    "    colors = [n for n in range(len(g.nodes()))]\n",
    "    k = 0.35\n",
    "    pos=nx.spring_layout(g, k=k)\n",
    "    nx.draw_networkx(g,pos, node_size=df_final[\"count\"].values*8, cmap = cmap, node_color=colors, edge_color=\"grey\", font_size=20, width=3)\n",
    "    plt.title(\"Top 25 Bigrams for %s and %s\" %(cuisines[0],cuisines[1]), fontsize=20)\n",
    "    plt.gcf().set_size_inches(30,30)\n",
    "    plt.show()\n",
    "    plt.savefig(\"network.png\")"
   ]
  },
  {
   "cell_type": "code",
   "execution_count": null,
   "metadata": {
    "colab": {
     "base_uri": "https://localhost:8080/",
     "height": 1000
    },
    "colab_type": "code",
    "id": "mFBaFQcA65c-",
    "outputId": "4e8d0359-4766-4fd8-fc98-1c99bba090d0"
   },
   "outputs": [],
   "source": [
    "net_diagram(\"greek\",\"italian\")"
   ]
  },
  {
   "cell_type": "markdown",
   "metadata": {
    "colab_type": "text",
    "id": "CZfSirVNASZY"
   },
   "source": [
    "# Machine Learning with Sparse Data"
   ]
  },
  {
   "cell_type": "markdown",
   "metadata": {
    "colab_type": "text",
    "id": "WL1qS-JHAwhS"
   },
   "source": [
    "## Logistic Regression"
   ]
  },
  {
   "cell_type": "markdown",
   "metadata": {
    "colab_type": "text",
    "id": "8r1Voclang66"
   },
   "source": [
    "### Hyperparameter Tuning- Logistic Regression"
   ]
  },
  {
   "cell_type": "code",
   "execution_count": null,
   "metadata": {
    "colab": {
     "base_uri": "https://localhost:8080/",
     "height": 187
    },
    "colab_type": "code",
    "id": "0z9eheA6neKI",
    "outputId": "96b5eb68-d2eb-49a7-d0b8-646730f7a6ad"
   },
   "outputs": [],
   "source": [
    "pipe1 = Pipeline([('classifier' , LogisticRegression())])\n",
    "\n",
    "param_grid1 = [\n",
    "    {\"classifier\" : [LogisticRegression()],\n",
    "     \"classifier__penalty\" : [\"l2\"],\n",
    "    \"classifier__solver\" : [\"newton-cg\", \"sag\", \"saga\", \"lbfgs\"]},\n",
    "   ]\n",
    "\n",
    "# Create grid search object\n",
    "\n",
    "clf1 = GridSearchCV(pipe, param_grid1 = param_grid1, cv = 5, verbose=True, n_jobs=-1)\n",
    "\n",
    "# Fit on data\n",
    "\n",
    "clf1.fit(X_train, y_train)\n",
    "\n",
    "clf1.best_params_"
   ]
  },
  {
   "cell_type": "markdown",
   "metadata": {
    "colab_type": "text",
    "id": "CvPwrirkoFGG"
   },
   "source": [
    "### Logistic Regression - Assessment"
   ]
  },
  {
   "cell_type": "code",
   "execution_count": null,
   "metadata": {
    "colab": {
     "base_uri": "https://localhost:8080/",
     "height": 68
    },
    "colab_type": "code",
    "id": "Nol5PXRL8hNh",
    "outputId": "9ad17a3f-6acb-4a25-8359-d4c447fead2a"
   },
   "outputs": [],
   "source": [
    "t = time.time()\n",
    "\n",
    "# -------------------------- Logistic Regression Classifier -----------------------------------------\n",
    "\n",
    "clf_logreg = LogisticRegression(penalty=\"l2\", solver=\"newton-cg\")\n",
    "clf_logreg.fit(X_train, y_train)\n",
    "y_pred_lr = clf_logreg.predict(X_test)\n",
    "\n",
    "print(\"Logistic Regression Accuracy  (in %) : {0:0.2f}\". format(accuracy_score(y_test, y_pred_lr)*100))\n",
    "\n",
    "elapsed = time.time() - t\n",
    "print()\n",
    "print(\"Χρόνος Εκτέλεσης Προγράμματος: {} min\".format(round(elapsed/60,1)))"
   ]
  },
  {
   "cell_type": "markdown",
   "metadata": {
    "colab_type": "text",
    "id": "3f4trGygCB_S"
   },
   "source": [
    "## Decision Tree"
   ]
  },
  {
   "cell_type": "markdown",
   "metadata": {
    "colab_type": "text",
    "id": "V8GSsMVHkcUN"
   },
   "source": [
    "### Hyperparameter Tuning - Decision Tree"
   ]
  },
  {
   "cell_type": "code",
   "execution_count": null,
   "metadata": {
    "colab": {
     "base_uri": "https://localhost:8080/",
     "height": 34
    },
    "colab_type": "code",
    "id": "iIYTx5n0vlp5",
    "outputId": "f165d452-8836-4b72-f383-25e097c938df"
   },
   "outputs": [],
   "source": [
    "# Create lists of parameter for Decision Tree Classifier\n",
    "\n",
    "decisiontree = tree.DecisionTreeClassifier()\n",
    "\n",
    "pipe = Pipeline(steps=[(\"decisiontree\", decisiontree)])\n",
    "\n",
    "criterion = [\"gini\", \"entropy\"]\n",
    "max_depth = [200, 250, 300, 350]\n",
    "\n",
    "parameters = dict(decisiontree__criterion=criterion, decisiontree__max_depth=max_depth)\n",
    "\n",
    "clf2 = GridSearchCV(pipe, parameters)\n",
    "\n",
    "# Fit the grid search\n",
    "\n",
    "clf2.fit(X_train, y_train)\n",
    "\n",
    "print(clf2.best_params_)"
   ]
  },
  {
   "cell_type": "markdown",
   "metadata": {
    "colab_type": "text",
    "id": "Y_q36gbwkfce"
   },
   "source": [
    "### Decision Tree - Assessment"
   ]
  },
  {
   "cell_type": "code",
   "execution_count": null,
   "metadata": {
    "colab": {
     "base_uri": "https://localhost:8080/",
     "height": 68
    },
    "colab_type": "code",
    "id": "BjevKj5XAZw-",
    "outputId": "9d37e64b-ef07-4a48-ee1e-1433065b7498"
   },
   "outputs": [],
   "source": [
    "t = time.time()\n",
    "\n",
    "# ----------------------------- Decision Tree Classifier --------------------------------------------\n",
    "\n",
    "clf_tree = DecisionTreeClassifier(max_depth=300, criterion=\"gini\")\n",
    "clf_tree.fit(X_train, y_train)                       \n",
    "y_pred_dt = clf_tree.predict(X_test)                   \n",
    "\n",
    "print(\"Decision Tree Accuracy (in %) : {0:0.2f}\" .format(accuracy_score(y_test, y_pred_dt)*100))\n",
    "\n",
    "elapsed = time.time() - t\n",
    "print()\n",
    "print(\"Χρόνος Εκτέλεσης Προγράμματος: {} min\".format(round(elapsed/60,1)))"
   ]
  },
  {
   "cell_type": "markdown",
   "metadata": {
    "colab_type": "text",
    "id": "KAEDhZG7Cm-b"
   },
   "source": [
    "## K-Nearest Neighboor"
   ]
  },
  {
   "cell_type": "markdown",
   "metadata": {
    "colab_type": "text",
    "id": "46xHzrYrttcs"
   },
   "source": [
    "### Selecting Best k-Neighbors"
   ]
  },
  {
   "cell_type": "code",
   "execution_count": null,
   "metadata": {
    "colab": {
     "base_uri": "https://localhost:8080/",
     "height": 819
    },
    "colab_type": "code",
    "id": "I9Hu5uioAZzo",
    "outputId": "47f5de2d-92fb-48e7-bb56-f1168682ef70"
   },
   "outputs": [],
   "source": [
    "t = time.time()\n",
    "\n",
    "--------------------------- K-Nearest Neighboor Classifier -------------------\n",
    "\n",
    "\n",
    "k_range=range(15,31,2)\n",
    "scores={}\n",
    "scores_list=[]\n",
    "\n",
    "for k in k_range:\n",
    "    clf_knn=KNeighborsClassifier(n_neighbors=k)\n",
    "    clf_knn.fit(X_train,y_train)\n",
    "    y_pred_knn=clf_knn.predict(X_test)\n",
    "    scores_list.append(metrics.accuracy_score(y_test,y_pred_knn))\n",
    "    \n",
    "\n",
    "print(\"KNN Accuracy (in %) : {0:0.2f} \" .format(round(max(scores_list)*100,2)))\n",
    "\n",
    "fig=plt.subplots(figsize=(28,12))\n",
    "plt.plot(k_range,scores_list,  marker=\"o\")\n",
    "plt.xlabel(\"Value K for KNN\", size=22)\n",
    "plt.ylabel(\"Testing Accuracy\", size=22)\n",
    "plt.title(\"K-Neigbour Influence\", size=28)\n",
    "plt.tick_params(axis=\"both\", which=\"major\", labelsize=22)\n",
    "plt.grid(color=\"lightgrey\")\n",
    "plt.rcParams['axes.facecolor'] = 'white'\n",
    "\n",
    "elapsed = time.time() - t\n",
    "print()\n",
    "print(\"Χρόνος Εκτέλεσης Προγράμματος: {} min\".format(round(elapsed/60,1)))"
   ]
  },
  {
   "cell_type": "markdown",
   "metadata": {
    "colab_type": "text",
    "id": "-fEnm_lnuB-Q"
   },
   "source": [
    "### Hyperparameter Tuning - KNN"
   ]
  },
  {
   "cell_type": "code",
   "execution_count": null,
   "metadata": {
    "colab": {
     "base_uri": "https://localhost:8080/",
     "height": 204
    },
    "colab_type": "code",
    "id": "U9j13qmfqr3Q",
    "outputId": "4f4f7cc3-b914-4f84-fab8-2bc0d77767f8"
   },
   "outputs": [],
   "source": [
    "dist = [\"euclidean\", \"chebyshev\", \"manhattan\"] # metric distance\n",
    "\n",
    "clf3 = GridSearchCV(KNeighborsClassifier(), dict(n_neighbors=[23], metric=dist), cv=5, scoring='f1_macro', n_jobs=-1)\n",
    "\n",
    "clf3.fit(X_train, y_train)\n",
    "\n",
    "print(clf3.best_params_)"
   ]
  },
  {
   "cell_type": "code",
   "execution_count": null,
   "metadata": {
    "colab": {
     "base_uri": "https://localhost:8080/",
     "height": 34
    },
    "colab_type": "code",
    "id": "R78Zz-nmraTP",
    "outputId": "fc88db10-898d-4ac5-eb7d-c580555600b5"
   },
   "outputs": [],
   "source": [
    "print(clf3.best_params_)"
   ]
  },
  {
   "cell_type": "markdown",
   "metadata": {
    "colab_type": "text",
    "id": "ZQYtDWg6KXEh"
   },
   "source": [
    "### Save the best performance of KNN"
   ]
  },
  {
   "cell_type": "code",
   "execution_count": null,
   "metadata": {
    "colab": {
     "base_uri": "https://localhost:8080/",
     "height": 68
    },
    "colab_type": "code",
    "id": "lmtQS_pXKDkV",
    "outputId": "b6a0ecd3-229d-455a-95f4-9d925b8a2ad6"
   },
   "outputs": [],
   "source": [
    "t = time.time()\n",
    "\n",
    "# --------------------------- K-Nearest Neighboor Classifier -------------------\n",
    "\n",
    "clf_knn=KNeighborsClassifier(n_neighbors=23, metric=\"euclidean\")\n",
    "clf_knn.fit(X_train,y_train)\n",
    "y_pred_knn=clf_knn.predict(X_test)\n",
    "\n",
    "print(\"K-Nearest Neighbor Accuracy (in %) : {0:0.2f}\" .format(accuracy_score(y_test, y_pred_knn)*100))\n",
    "\n",
    "elapsed = time.time() - t\n",
    "print()\n",
    "print(\"Χρόνος Εκτέλεσης Προγράμματος: {} min\".format(round(elapsed/60,1)))"
   ]
  },
  {
   "cell_type": "markdown",
   "metadata": {
    "colab_type": "text",
    "id": "zCcoKjIWD7DQ"
   },
   "source": [
    "## Random Forest"
   ]
  },
  {
   "cell_type": "markdown",
   "metadata": {
    "colab_type": "text",
    "id": "OoUOPkvey3k1"
   },
   "source": [
    "### Hyperparameter Tuning - Random Forest"
   ]
  },
  {
   "cell_type": "code",
   "execution_count": null,
   "metadata": {
    "colab": {},
    "colab_type": "code",
    "id": "A7Hnwd6By4HS"
   },
   "outputs": [],
   "source": [
    "forest = RandomForestClassifier(random_state = 1)\n",
    "\n",
    "param_grid = { \n",
    "    'n_estimators': [100, 500],\n",
    "    'max_features': ['auto', 'sqrt', 'log2'],\n",
    "    'max_depth' : [300],\n",
    "    'criterion' :['gini', 'entropy']\n",
    "}\n",
    "\n",
    "clf4 = GridSearchCV(forest, param_grid=param_grid, cv = 5, n_jobs = -1)\n",
    "\n",
    "clf4.fit(X_train, y_train)\n",
    "\n",
    "clf4.best_params_"
   ]
  },
  {
   "cell_type": "markdown",
   "metadata": {
    "colab_type": "text",
    "id": "eQuLLd4lzopw"
   },
   "source": [
    "### Random Forest Assessment "
   ]
  },
  {
   "cell_type": "code",
   "execution_count": null,
   "metadata": {
    "colab": {
     "base_uri": "https://localhost:8080/",
     "height": 68
    },
    "colab_type": "code",
    "id": "Z11lAdqFAZ47",
    "outputId": "0603cc01-94af-41ff-cbb2-6ba3f328fea5"
   },
   "outputs": [],
   "source": [
    "t = time.time()\n",
    "\n",
    "#  --------------------- Random Forest Classifier -------------------------------\n",
    "\n",
    "rlf = RandomForestClassifier(n_estimators=100, max_features=\"auto\",random_state=0)\n",
    "rlf.fit(X_train, y_train)\n",
    "y_pred_rlf = rlf.predict(X_test)\n",
    "\n",
    "print(\"Random Forest Accuracy (in %) : {0:0.2f}\" .format(accuracy_score(y_test, y_pred_rlf)*100))\n",
    "\n",
    "elapsed = time.time() - t\n",
    "print()\n",
    "print(\"Χρόνος Εκτέλεσης Προγράμματος: {} min\".format(round(elapsed/60,1)))"
   ]
  },
  {
   "cell_type": "markdown",
   "metadata": {
    "colab_type": "text",
    "id": "ZkwQ4m-WmVrw"
   },
   "source": [
    "## Boosting Classifier"
   ]
  },
  {
   "cell_type": "code",
   "execution_count": null,
   "metadata": {
    "colab": {},
    "colab_type": "code",
    "id": "rzyBa8sHmU7k"
   },
   "outputs": [],
   "source": [
    "# -------------------------  GradientBoosting Classifier -----------------------------\n",
    "\n",
    "from sklearn.ensemble import GradientBoostingClassifier\n",
    "\n",
    "t = time.time()\n",
    "\n",
    "grbo = GradientBoostingClassifier(n_estimators=50, learning_rate=0.1, max_depth=3, \n",
    "                                  random_state=0, loss='deviance').fit(X_train, y_train)\n",
    "\n",
    "grbo.fit(X_train, y_train)\n",
    "y_pred_grbo=grbo.predict(X_test)\n",
    "\n",
    "print(\"Adaboost Classifier Accuracy (in %) : {0:0.2f}\" .format(accuracy_score(y_test, y_pred_grbo)*100))\n",
    "\n",
    "elapsed = time.time() - t\n",
    "print()\n",
    "print(\"Χρόνος Εκτέλεσης Προγράμματος: {} min\".format(round(elapsed/60,1)))\n",
    "\n",
    "\n",
    "# ------------------------------------------------------------------------------\n",
    "\n",
    "\n",
    "# # -------------------------  Adaboost Classifier -----------------------------\n",
    "\n",
    "# from sklearn.ensemble import AdaBoostClassifier\n",
    "\n",
    "# t = time.time()\n",
    "\n",
    "# clf_ada = AdaBoostClassifier(n_estimators=100, random_state=0)\n",
    "# clf_ada.fit(X_train, y_train)\n",
    "# y_pred_ada=clf_ada.predict(X_test)\n",
    "\n",
    "# print(\"Adaboost Classifier Accuracy (in %) : {0:0.2f}\" .format(accuracy_score(y_test, y_pred_ada)*100))\n",
    "\n",
    "# elapsed = time.time() - t\n",
    "# print()\n",
    "# print(\"Χρόνος Εκτέλεσης Προγράμματος: {} min\".format(round(elapsed/60,1)))"
   ]
  },
  {
   "cell_type": "markdown",
   "metadata": {
    "colab_type": "text",
    "id": "0sk4IuK6F0YC"
   },
   "source": [
    "## Multinomial Naive Bayes\n"
   ]
  },
  {
   "cell_type": "markdown",
   "metadata": {
    "colab_type": "text",
    "id": "bfXIlpBtzfgJ"
   },
   "source": [
    "### Hyperparameter tuning -  MNB"
   ]
  },
  {
   "cell_type": "code",
   "execution_count": null,
   "metadata": {
    "colab": {
     "base_uri": "https://localhost:8080/",
     "height": 34
    },
    "colab_type": "code",
    "id": "3yKu0NHAzefZ",
    "outputId": "01f08fce-ce45-4622-8100-874462322dd1"
   },
   "outputs": [],
   "source": [
    "pipe = Pipeline([('clf', MultinomialNB())])\n",
    "\n",
    "grid_params = {'clf__alpha': [1, 1e-1, 1e-2, 0]}\n",
    "\n",
    "clf5 = GridSearchCV(pipe, grid_params, cv=5)\n",
    "\n",
    "clf5.fit(X_train, y_train)\n",
    "\n",
    "clf5.best_params_"
   ]
  },
  {
   "cell_type": "markdown",
   "metadata": {
    "colab_type": "text",
    "id": "AWq3Dj5_zkFl"
   },
   "source": [
    "### MNB - Assessment"
   ]
  },
  {
   "cell_type": "code",
   "execution_count": null,
   "metadata": {
    "colab": {
     "base_uri": "https://localhost:8080/",
     "height": 68
    },
    "colab_type": "code",
    "id": "v_GVbex5AaIf",
    "outputId": "ec527374-57b6-4544-a3f6-20b25c096355"
   },
   "outputs": [],
   "source": [
    "t = time.time()\n",
    "\n",
    "#  ------------------- Multinomial Naive Bayes Classifier ----------------------\n",
    "\n",
    "from sklearn.naive_bayes import MultinomialNB\n",
    "mnb = MultinomialNB(alpha=0.01)\n",
    "mnb.fit(X_train,y_train)\n",
    "y_pred_mnb = mnb.predict(X_test)\n",
    "\n",
    "print(\"Multinomial Naive Bayes Accuracy  (in %) : {0:0.2f}\". format(accuracy_score(y_test,y_pred_mnb)*100))\n",
    "\n",
    "elapsed = time.time() - t\n",
    "print()\n",
    "print(\"Χρόνος Εκτέλεσης Προγράμματος: {} min\".format(round(elapsed/60,1)))"
   ]
  },
  {
   "cell_type": "markdown",
   "metadata": {
    "colab_type": "text",
    "id": "eTdqv9fYGHcP"
   },
   "source": [
    "## Kernel SVM (RBF)"
   ]
  },
  {
   "cell_type": "code",
   "execution_count": null,
   "metadata": {
    "colab": {
     "base_uri": "https://localhost:8080/",
     "height": 510
    },
    "colab_type": "code",
    "id": "pdknXtsEAaDh",
    "outputId": "11f9e010-a59d-4b26-d171-be0985dd37ca"
   },
   "outputs": [],
   "source": [
    "t = time.time()\n",
    "\n",
    "#  ------------------- Kernel SVM (RBF) Classifier -----------------\n",
    "\n",
    "svclassifier = SVC(kernel=\"rbf\")\n",
    "svclassifier.fit(X_train, y_train)\n",
    "y_pred_svm = svclassifier.predict(X_test)\n",
    "\n",
    "print(classification_report(y_test,y_pred_svm))\n",
    "\n",
    "elapsed = time.time() - t\n",
    "print()\n",
    "print(\"Χρόνος Εκτέλεσης Προγράμματος: {} min\".format(round(elapsed/60,1)))"
   ]
  },
  {
   "cell_type": "markdown",
   "metadata": {
    "colab_type": "text",
    "id": "xc2dwmM8JpB7"
   },
   "source": [
    "## Precision, Recall and F1 score - All methods"
   ]
  },
  {
   "cell_type": "code",
   "execution_count": null,
   "metadata": {
    "colab": {
     "base_uri": "https://localhost:8080/",
     "height": 204
    },
    "colab_type": "code",
    "id": "IQ4dvV0vAZ-X",
    "outputId": "e1d70d76-da17-4e89-9265-b83629e77bea"
   },
   "outputs": [],
   "source": [
    "print(\"Logistic Regression metrics:\", precision_recall_fscore_support(y_test,y_pred_lr, average=\"macro\")[0:3])\n",
    "print(\"\\nDecision Tree metrics:\",precision_recall_fscore_support(y_test,y_pred_dt, average=\"macro\")[0:3])\n",
    "print(\"\\nK-Nearest Neighbor metrics:\",precision_recall_fscore_support(y_test,y_pred_knn, average=\"macro\")[0:3])\n",
    "print(\"\\nMultinomial Naive Bayes metrics:\",precision_recall_fscore_support(y_test,y_pred_mnb, average=\"macro\")[0:3])\n",
    "print(\"\\nRandom Forest metrics:\",precision_recall_fscore_support(y_test,y_pred_rlf, average=\"macro\")[0:3])\n",
    "print(\"\\nKernel SVM metrics:\",precision_recall_fscore_support(y_test,y_pred_svm, average=\"macro\")[0:3])"
   ]
  },
  {
   "cell_type": "markdown",
   "metadata": {
    "colab_type": "text",
    "id": "gqtXnu1EMvtl"
   },
   "source": [
    "## ROC Curves"
   ]
  },
  {
   "cell_type": "markdown",
   "metadata": {
    "colab_type": "text",
    "id": "sRJ60Ds_eP5A"
   },
   "source": [
    "## Create Function for Micro Average ROC Curves"
   ]
  },
  {
   "cell_type": "code",
   "execution_count": null,
   "metadata": {
    "colab": {},
    "colab_type": "code",
    "id": "pclZ0JctFb3u"
   },
   "outputs": [],
   "source": [
    "from sklearn.metrics import roc_curve, auc\n",
    "from sklearn.metrics import roc_auc_score\n",
    "from sklearn.preprocessing import label_binarize\n",
    "\n",
    "def roc(y_test, y_pred):\n",
    "\n",
    "    n_classes=20\n",
    "    y_test = label_binarize(y_test, classes=[i for i in range(n_classes)])\n",
    "    y_pred = label_binarize(y_pred, classes=[i for i in range(n_classes)])\n",
    "\n",
    "    # Compute ROC curve and ROC area for each class\n",
    "    fpr = dict()\n",
    "    tpr = dict()\n",
    "\n",
    "    roc_auc = dict()\n",
    "    for i in range(n_classes):\n",
    "        fpr[i], tpr[i], _ = roc_curve(y_test[:,i], y_pred[:,i])\n",
    "        roc_auc[i] = auc(fpr[i], tpr[i])\n",
    "\n",
    "    fpr[\"micro\"], tpr[\"micro\"], _ = roc_curve(y_test.ravel(), y_pred.ravel())\n",
    "    roc_auc[\"micro\"] = auc(fpr[\"micro\"], tpr[\"micro\"])\n",
    "\n",
    "    return fpr[\"micro\"], tpr[\"micro\"], roc_auc[\"micro\"]"
   ]
  },
  {
   "cell_type": "markdown",
   "metadata": {
    "colab_type": "text",
    "id": "4_9JsbmmeXWi"
   },
   "source": [
    "## Plot ROC Curves for each method"
   ]
  },
  {
   "cell_type": "code",
   "execution_count": null,
   "metadata": {
    "colab": {
     "base_uri": "https://localhost:8080/",
     "height": 829
    },
    "colab_type": "code",
    "id": "U2L1ofHQNa38",
    "outputId": "6590884c-3b7f-4539-ac67-f0b9a072643f"
   },
   "outputs": [],
   "source": [
    "fpr_lr, tpr_lr, roc_auc_lr=roc(y_test, y_pred_lr)\n",
    "fpr_dt, tpr_dt, roc_auc_dt=roc(y_test, y_pred_dt)\n",
    "fpr_knn, tpr_knn, roc_auc_knn=roc(y_test, y_pred_knn)\n",
    "fpr_rlf, tpr_rlf, roc_auc_rlf=roc(y_test, y_pred_rlf)\n",
    "fpr_svm, tpr_svm, roc_auc_svm=roc(y_test, y_pred_svm)\n",
    "fpr_mnb, tpr_mnb, roc_auc_mnb=roc(y_test, y_pred_mnb)\n",
    "\n",
    "\n",
    "# Plot all ROC curves\n",
    "\n",
    "fig, (ax1,ax2)=plt.subplots(1,2, figsize=(28,12))\n",
    "ax1.plot(fpr_knn, tpr_knn, label=\"Multinomial NB (AUC = {0:0.2f})\".format(roc_auc_mnb), linewidth=2)\n",
    "ax1.plot(fpr_knn, tpr_knn, label=\"K-Nearest Neighbor (AUC = {0:0.2f})\".format(roc_auc_knn), linewidth=2)\n",
    "ax1.plot(fpr_lr, tpr_lr, label=\"Logistic Regression (AUC = {0:0.2f})\".format(roc_auc_lr), linewidth=2)\n",
    "ax1.plot(fpr_svm, tpr_svm, label=\"Kernel SVM (AUC = {0:0.2f})\".format(roc_auc_svm), linewidth=2)\n",
    "ax1.plot(fpr_dt, tpr_dt, label=\"Decision Tree (AUC = {0:0.2f})\".format(roc_auc_dt), linewidth=2)\n",
    "ax1.plot(fpr_rlf, tpr_rlf, label=\"Random Forest (AUC = {0:0.2f})\".format(roc_auc_rlf), linewidth=2)\n",
    "\n",
    "# \n",
    "ax1.plot([0, 1], [0, 1], \"k--\", lw=2)\n",
    "ax1.set_xlim([0.0, 1.0])\n",
    "ax1.set_ylim([0.0, 1.05])\n",
    "ax1.set_xlabel(\"False Positive Rate\", size=24)\n",
    "ax1.set_ylabel(\"True Positive Rate\", size=24)\n",
    "ax1.set_title(\"ROC Curves - Micro Average\", size=27)\n",
    "ax1.legend(loc=\"lower right\", prop={\"size\": 20})\n",
    "ax1.tick_params(axis=\"both\", which=\"major\", labelsize=22)\n",
    "ax1.grid(color=\"lightgrey\")\n",
    "\n",
    "AUC=[roc_auc_mnb, roc_auc_knn, roc_auc_lr, roc_auc_svm, roc_auc_dt, roc_auc_rlf]    \n",
    "bars = [\"Multinomial NB\", \"KNN\", \"Logistic\",  \"SVM\" , \"Decision Tree\",  \"Random Forest\"] \n",
    "y_pos = np.arange(len(bars), 2)\n",
    " \n",
    "# Create bars\n",
    "\n",
    "ax2.bar(bars, AUC, color=\"darkblue\")\n",
    "ax2.set_ylim([0.6, 1.05])\n",
    "ax2.set_xlabel(\"Methods\", size=24)\n",
    "ax2.set_ylabel(\"AUC\", size=24)\n",
    "ax2.set_title(\"AUC Comparison\", size=27)\n",
    "ax2.tick_params(axis=\"both\", which=\"major\", labelsize=22)\n",
    "ax2.grid(color=\"lightgrey\")\n",
    "ax2.xaxis.set_tick_params(rotation=-15)\n",
    "\n",
    "# Show graphic\n",
    "\n",
    "plt.show()\n",
    "plt.rcParams['axes.facecolor'] = 'white'\n",
    "\n"
   ]
  },
  {
   "cell_type": "markdown",
   "metadata": {
    "colab_type": "text",
    "id": "5zJf4Mfkebgz"
   },
   "source": [
    "## Voting Classifier"
   ]
  },
  {
   "cell_type": "code",
   "execution_count": null,
   "metadata": {
    "colab": {},
    "colab_type": "code",
    "id": "Cm5wyT-nylqS"
   },
   "outputs": [],
   "source": [
    "from sklearn.calibration import CalibratedClassifierCV\n",
    "from sklearn.ensemble import VotingClassifier\n",
    "\n",
    "t = time.time()\n",
    "\n",
    "vot=VotingClassifier(estimators=[(\"Logistic\",clf_logreg),(\"SVM\",CalibratedClassifierCV(svclassifier)),  \n",
    "                        (\"KNN\",KNeighborsClassifier(n_neighbors=25)) ], voting=\"soft\", weights=[3,15,2])\n",
    "\n",
    "vot.fit(X_train,y_train)\n",
    "y_pred_vot=vot.predict(X_test)\n",
    "\n",
    "print(\"Soft VotingClassifier Accuracy : {in %}\", round(accuracy_score(y_test, y_pred_vot)*100,2))\n",
    "\n",
    "\n",
    "elapsed = time.time() - t\n",
    "print()\n",
    "print(\"Χρόνος Εκτέλεσης Προγράμματος: {} min\".format(round(elapsed/60,1)))"
   ]
  },
  {
   "cell_type": "markdown",
   "metadata": {
    "colab_type": "text",
    "id": "mLMjrQwZbrgY"
   },
   "source": [
    "# Dimensionality Reduction"
   ]
  },
  {
   "cell_type": "markdown",
   "metadata": {
    "colab_type": "text",
    "id": "Lq5KA228bsek"
   },
   "source": [
    "## Estimate Covariance Matrix"
   ]
  },
  {
   "cell_type": "code",
   "execution_count": null,
   "metadata": {
    "colab": {
     "base_uri": "https://localhost:8080/",
     "height": 34
    },
    "colab_type": "code",
    "id": "UlwCr3xLNa7D",
    "outputId": "1cd9b845-1bfc-427d-e090-15452f3719dc"
   },
   "outputs": [],
   "source": [
    "covariance_matrix=np.cov(X_train.todense().transpose())\n",
    "\n",
    "print(\"Διάσταση πίνακα συνδιασπορών :\", np.shape(covariance_matrix))\n",
    "\n",
    "U, s, V = np.linalg.svd(covariance_matrix)\n",
    "\n",
    "x=range(1,len(s)+1)\n",
    "y=np.cumsum(s)"
   ]
  },
  {
   "cell_type": "markdown",
   "metadata": {
    "colab_type": "text",
    "id": "Ngwkfg46bxf5"
   },
   "source": [
    "## Infuence of Principal Components"
   ]
  },
  {
   "cell_type": "code",
   "execution_count": null,
   "metadata": {
    "colab": {
     "base_uri": "https://localhost:8080/",
     "height": 473
    },
    "colab_type": "code",
    "id": "5TY6JDxDbpUM",
    "outputId": "d827e937-0ce7-4f20-ff1e-681e3374b927"
   },
   "outputs": [],
   "source": [
    "fig, (ax1,ax2) = plt.subplots(1,2, figsize=(20,7))\n",
    "\n",
    "ax1.scatter(np.array(range(1,len(s)+1)), np.log(s/np.sum(s)))\n",
    "ax1.set_ylim(-16,-3)\n",
    "ax1.set_ylabel(\"Log-Fraction of Variance per Component\", size=15)\n",
    "ax1.set_xlabel(\"Number of components\", size=15)\n",
    "ax1.set_title(\"Fraction of Total Variance Explained per each Principal Component\", size=17)\n",
    "ax1.tick_params(axis=\"both\", which=\"major\", labelsize=13)\n",
    "ax1.grid(color='lightgrey')\n",
    "plt.rcParams['axes.facecolor'] = 'white'\n",
    "\n",
    "ax2.scatter(x,y)\n",
    "ax2.set_xlabel(\"Number of components\", size=15) \n",
    "ax2.set_ylabel(\"Cumulative Variance (%)\", size=15) \n",
    "ax2.set_title(\"Cumulative Variance Explained Explained from Principal Components\", size=17) \n",
    "ax2.tick_params(axis=\"both\", which=\"major\", labelsize=13)\n",
    "# plt.rcParams[\"axes.facecolor\"] = \"white\"\n",
    "ax2.tick_params(axis=\"both\", which=\"major\", labelsize=13)\n",
    "\n",
    "ax2.grid(color=\"lightgrey\")\n",
    "plt.rcParams['axes.facecolor'] = 'white'"
   ]
  },
  {
   "cell_type": "markdown",
   "metadata": {
    "colab_type": "text",
    "id": "EtWXKY2RdWuz"
   },
   "source": [
    "## Save Predictions of Each Method for different Components"
   ]
  },
  {
   "cell_type": "code",
   "execution_count": null,
   "metadata": {
    "colab": {},
    "colab_type": "code",
    "id": "8Pw4z6C1cAox"
   },
   "outputs": [],
   "source": [
    "features=[250,500,750,1150]\n",
    "\n",
    "var=[]\n",
    "acc_lr, list_pred_lr = [], []\n",
    "acc_dt, list_pred_dt = [], []\n",
    "acc_knn,list_pred_knn = [], []\n",
    "acc_rlf, list_pred_rlf = [], []\n",
    "acc_svm, list_pred_svm = [], []\n",
    "\n",
    "for i in features:\n",
    "    \n",
    "    pca= PCA(n_components=i)\n",
    "\n",
    "    pca.fit(X_train.todense())\n",
    "\n",
    "    # Προβολή των train και test δεδομένων στους αξονες\n",
    "\n",
    "    X_train_pca=pca.transform(X_train.todense())\n",
    "    X_test_pca=pca.transform(X_test.todense())\n",
    "        \n",
    "    var.append(sum(pca.explained_variance_ratio_)*100)\n",
    "     \n",
    "    \n",
    "    # -------------------------- Logistic Regression Classifier -----------------------------------------\n",
    "\n",
    "    clf_logreg.fit(X_train_pca, y_train)\n",
    "    y_pred_lr_pca = clf_logreg.predict(X_test_pca)\n",
    "    \n",
    "    acc_lr.append(accuracy_score(y_test, y_pred_lr_pca)*100)\n",
    "    list_pred_lr.append(y_pred_lr_pca)\n",
    "    print(\"logistic\")\n",
    "    \n",
    "    \n",
    "    # ----------------------------- Decision Tree Classifier --------------------------------------------\n",
    "\n",
    "    clf_tree.fit(X_train_pca, y_train)                       \n",
    "    y_pred_dt_pca = clf_tree.predict(X_test_pca)                   \n",
    "\n",
    "    acc_dt.append(accuracy_score(y_test, y_pred_dt_pca)*100)     \n",
    "    list_pred_dt.append(y_pred_dt_pca)\n",
    "    print(\"tree\")\n",
    "    \n",
    "     # --------------------------- K-Nearest Neighboor Classifier -------------------\n",
    "\n",
    "    clf_knn.fit(X_train_pca,y_train)\n",
    "    y_pred_knn_pca=clf_knn.predict(X_test_pca)\n",
    "\n",
    "    acc_knn.append(accuracy_score(y_test, y_pred_knn_pca))\n",
    "    list_pred_knn.append(y_pred_knn_pca)\n",
    "    print(\"k-NN\")\n",
    "    \n",
    "    #  --------------------- Random Forest Classifier -------------------------------\n",
    "\n",
    "    rlf.fit(X_train_pca, y_train)\n",
    "    y_pred_rlf_pca = rlf.predict(X_test_pca)\n",
    "    \n",
    "    acc_rlf.append(accuracy_score(y_test, y_pred_rlf_pca))\n",
    "    list_pred_rlf.append(y_pred_rlf_pca)\n",
    "    print(\"forest\")\n",
    "\n",
    "    \n",
    "with open(\"list_lr.txt\", \"wb\") as fp_lr:   \n",
    "    pickle.dump(list_pred_lr , fp_lr) \n",
    "    \n",
    "\n",
    "with open(\"list_dt.txt\", \"wb\") as fp_dt:  \n",
    "    pickle.dump(list_pred_dt , fp_dt) \n",
    "    \n",
    "\n",
    "\n",
    "with open(\"list_knn.txt\", \"wb\") as fp_knn:   \n",
    "    pickle.dump(list_pred_knn , fp_knn) \n",
    "\n",
    "\n",
    "with open(\"list_rlf.txt\", \"wb\") as fp_rlf:  \n",
    "    pickle.dump(list_pred_rlf , fp_rlf) "
   ]
  },
  {
   "cell_type": "markdown",
   "metadata": {
    "colab_type": "text",
    "id": "NM3WKuoJcHQH"
   },
   "source": [
    "## Load Predictions of Each Method for different Components"
   ]
  },
  {
   "cell_type": "code",
   "execution_count": null,
   "metadata": {
    "colab": {},
    "colab_type": "code",
    "id": "BazcI18iNUO4"
   },
   "outputs": [],
   "source": [
    "with open(\"list_lr.txt\", \"rb\") as list_lr:  \n",
    "    list_pred_lr = pickle.load(list_lr)\n",
    "\n",
    "with open(\"list_knn.txt\", \"rb\") as list_knn:   \n",
    "    list_pred_knn = pickle.load(list_knn)\n",
    "    \n",
    "with open(\"list_dt.txt\", \"rb\") as list_dt:   \n",
    "    list_pred_dt = pickle.load(list_dt)\n",
    "    \n",
    "with open(\"list_rlf.txt\", \"rb\") as list_rlf:   \n",
    "    list_pred_rlf = pickle.load(list_rlf)"
   ]
  },
  {
   "cell_type": "markdown",
   "metadata": {
    "colab_type": "text",
    "id": "1FSDGIcGc4kF"
   },
   "source": [
    "## Assessment of Each Method for different Components"
   ]
  },
  {
   "cell_type": "code",
   "execution_count": null,
   "metadata": {
    "colab": {
     "base_uri": "https://localhost:8080/",
     "height": 1000
    },
    "colab_type": "code",
    "id": "CHowmMSXNUO7",
    "outputId": "b2e4f9a7-4971-4e9a-adf3-90efcd1adce1"
   },
   "outputs": [],
   "source": [
    "features=[250,500,750,1150]\n",
    "\n",
    "\n",
    "# Plot all ROC curves\n",
    "\n",
    "fig, ax =plt.subplots(2,2, figsize=(28,18))\n",
    "\n",
    "for i in range(len(list_pred_lr)):\n",
    "    \n",
    "    ind1, ind2=0,0\n",
    "    fpr_pca_lr, tpr_pca_lr, roc_auc_pca_lr=roc(y_test, list_pred_lr[i])\n",
    "    ax[0,0].plot(fpr_pca_lr, tpr_pca_lr, label=\"Features = {}, AUC= {:.2f}\".format(features[i], roc_auc_pca_lr), linewidth=2)\n",
    "\n",
    "\n",
    "    fpr_pca_dt, tpr_pca_dt, roc_auc_pca_dt=roc(y_test, list_pred_dt[i])\n",
    "    ax[0,1].plot(fpr_pca_dt, tpr_pca_dt, label=\"Features = {}, AUC= {:.2f}\".format(features[i], roc_auc_pca_dt), linewidth=2)\n",
    "    \n",
    "    fpr_pca_knn, tpr_pca_knn, roc_auc_pca_knn=roc(y_test, list_pred_knn[i])\n",
    "    ax[1,0].plot(fpr_pca_knn, tpr_pca_knn,label=\"Features = {}, AUC= {:.2f}\".format(features[i], roc_auc_pca_knn), linewidth=2)\n",
    "\n",
    "    fpr_pca_rlf, tpr_pca_rlf, roc_auc_pca_rlf=roc(y_test, list_pred_rlf[i])\n",
    "    ax[1,1].plot(fpr_pca_rlf, tpr_pca_rlf, label=\"Features = {}, AUC= {:.2f}\".format(features[i], roc_auc_pca_rlf), linewidth=2)\n",
    "\n",
    "\n",
    "methods = [\"Logistic Regression\", \"Decision Tree\", \"KNN\", \"Random Forest\"]\n",
    "\n",
    "ind=0\n",
    "\n",
    "for ax in ax.flat:\n",
    "\n",
    "    ax.plot([0, 1], [0, 1], \"k--\", lw=2)\n",
    "    ax.set_xlim([0.0, 1.0])\n",
    "    ax.set_ylim([0.0, 1.05])\n",
    "    ax.set_xlabel(\"False Positive Rate\", size=24)\n",
    "    ax.set_ylabel(\"True Positive Rate\", size=24)\n",
    "    ax.legend(loc=\"lower right\", prop={\"size\": 20})\n",
    "    ax.set_title(\"ROC Curves - {}\".format(methods[ind]), size=27)\n",
    "    ax.tick_params(axis=\"both\", which=\"major\", labelsize=22)\n",
    "    ax.grid(color=\"lightgrey\")\n",
    "    ind+=1\n",
    "\n",
    "plt.subplots_adjust( hspace=0.3)\n",
    "\n",
    "# Show graphic\n",
    "\n",
    "plt.show()\n"
   ]
  }
 ],
 "metadata": {
  "colab": {
   "collapsed_sections": [],
   "include_colab_link": true,
   "name": "Machine Learning - with PCA.ipynb",
   "provenance": [],
   "toc_visible": true
  },
  "kernelspec": {
   "display_name": "Python 3",
   "language": "python",
   "name": "python3"
  },
  "language_info": {
   "codemirror_mode": {
    "name": "ipython",
    "version": 3
   },
   "file_extension": ".py",
   "mimetype": "text/x-python",
   "name": "python",
   "nbconvert_exporter": "python",
   "pygments_lexer": "ipython3",
   "version": "3.8.1"
  }
 },
 "nbformat": 4,
 "nbformat_minor": 1
}
